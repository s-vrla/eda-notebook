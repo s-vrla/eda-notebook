{
  "nbformat": 4,
  "nbformat_minor": 0,
  "metadata": {
    "colab": {
      "provenance": [],
      "toc_visible": true
    },
    "kernelspec": {
      "name": "python3",
      "display_name": "Python 3"
    },
    "language_info": {
      "name": "python"
    }
  },
  "cells": [
    {
      "cell_type": "markdown",
      "source": [
        "# Introduction\n",
        "[Add details. This is a new notebook template.]"
      ],
      "metadata": {
        "id": "Q7o520_sh-1z"
      }
    },
    {
      "cell_type": "markdown",
      "source": [
        "# Set Up"
      ],
      "metadata": {
        "id": "W4e-s1BDGPdO"
      }
    },
    {
      "cell_type": "markdown",
      "source": [
        "## Authorize Google Drive\n",
        "Follow pop up prompts to authorize Drive access. May not work with non-Chrome browsers depending on ad block and privacy settings."
      ],
      "metadata": {
        "id": "B-rlmY-bGRa7"
      }
    },
    {
      "cell_type": "code",
      "source": [
        "from google.colab import drive\n",
        "drive.mount('/content/drive/')"
      ],
      "metadata": {
        "id": "5nrbf_1qFxhW"
      },
      "execution_count": null,
      "outputs": []
    },
    {
      "cell_type": "markdown",
      "source": [
        "## Library imports"
      ],
      "metadata": {
        "id": "Iwtt9m-UGk-c"
      }
    },
    {
      "cell_type": "code",
      "source": [
        "#general analysis\n",
        "import pandas as pd\n",
        "import pprint as ppr\n",
        "import re\n",
        "import numpy as np\n",
        "\n",
        "#file management\n",
        "from pathlib import Path\n",
        "from datetime import datetime\n",
        "\n",
        "#stop words counter\n",
        "#from collections import Counter"
      ],
      "metadata": {
        "id": "83asIMIosM1M"
      },
      "execution_count": null,
      "outputs": []
    },
    {
      "cell_type": "markdown",
      "source": [
        "## Display Preferences"
      ],
      "metadata": {
        "id": "D_IH7TCXXI0N"
      }
    },
    {
      "cell_type": "code",
      "source": [
        "#current preferences\n",
        "pd.set_option('display.max_rows', 100)\n",
        "pd.set_option('display.max_columns', None)\n",
        "#pd.set_option('display.max_colwidth', None) #change column display width\n",
        "#pd.set_option('display.precision', 2) #displays 2 decimal places on all numbers\n",
        "pd.set_option('display.float_format',  '{:.2f}'.format)\n",
        "pd.set_option('display.memory_usage', 'deep')"
      ],
      "metadata": {
        "id": "Lg2KRkolOaOD"
      },
      "execution_count": null,
      "outputs": []
    },
    {
      "cell_type": "markdown",
      "source": [
        "# File Handling\n",
        "This section uses parametized forms in Google Colab to simplify file selection.\n",
        "\n",
        "It may require running the same cells multiple times depending on how much information is needed to select the intended file/directory."
      ],
      "metadata": {
        "id": "FnIL3R03nZKL"
      }
    },
    {
      "cell_type": "code",
      "source": [
        "#@title ## File Selection\n",
        "\n",
        "#@markdown ---\n",
        "#@markdown ### Select or enter each part of the filepath:\n",
        "project = \"dunnhumby\" #@param [\"project_01\", \"project_02\"] {allow-input: true}\n",
        "folders = \"data/raw\" #@param [\"data/raw\", \"data/interim\", \"data/processed\", \"data/meta\"] {allow-input: true}\n",
        "#@markdown Check box if selecting 1 specific file.  Leave blank if selecting multiple files from a directory.\n",
        "single_file = True #@param {type:\"boolean\"}\n",
        "#@markdown **Required**: Selects a specific file.  Also used to create name of outputs.\n",
        "file_name = \"transactions_200701\" #@param {type:\"string\"}\n",
        "file_ext = \".csv\" #@param [\".csv\", \".txt\"] {allow-input: true}\n",
        "#@markdown\n",
        "#@markdown Use if selecting specific matching files from a directory.\n",
        "file_pattern = \"transactions_\" #@param [\"\"]{allow-input: true}\n",
        "#@markdown ---"
      ],
      "metadata": {
        "id": "FbE-jbRxcZzo"
      },
      "execution_count": null,
      "outputs": []
    },
    {
      "cell_type": "code",
      "source": [
        "#main project path\n",
        "project_dir = Path.cwd().joinpath(\"drive\", \"MyDrive\", \"data_analysis\", project)\n",
        "project_dir"
      ],
      "metadata": {
        "id": "c1IYHtdPhS_4"
      },
      "execution_count": null,
      "outputs": []
    },
    {
      "cell_type": "code",
      "source": [
        "#input files path\n",
        "input_dir = project_dir.joinpath(folders)\n",
        "input_dir"
      ],
      "metadata": {
        "id": "ZyiEH3Iv9oKg"
      },
      "execution_count": null,
      "outputs": []
    },
    {
      "cell_type": "code",
      "source": [
        "#output files path\n",
        "output_dir = project_dir.joinpath(\"notebooks\", \"eda\")\n",
        "output_dir"
      ],
      "metadata": {
        "id": "dyfsBykz-txa"
      },
      "execution_count": null,
      "outputs": []
    },
    {
      "cell_type": "code",
      "source": [
        "#unique marker for new files\n",
        "today = datetime.today()"
      ],
      "metadata": {
        "id": "ytQYbi7KK2qt"
      },
      "execution_count": null,
      "outputs": []
    },
    {
      "cell_type": "markdown",
      "source": [
        "### Show files in the selected path\n",
        "This can be adjusted using a glob pattern. Leaving the pattern blank defaults to `*` and returns all items within the directory."
      ],
      "metadata": {
        "id": "CfdNTLTU-ukb"
      }
    },
    {
      "cell_type": "code",
      "source": [
        "#show files in selected path\n",
        "#default '*' returns all files\n",
        "list(input_dir.glob(pattern=file_pattern+\"*\"))"
      ],
      "metadata": {
        "id": "x97C7Opl-YQQ"
      },
      "execution_count": null,
      "outputs": []
    },
    {
      "cell_type": "markdown",
      "source": [
        "### create final read-in path\n",
        "this conditional statement selects the correct path based on the `single_file` checkbox in the form."
      ],
      "metadata": {
        "id": "sQsyKllgJUkE"
      }
    },
    {
      "cell_type": "code",
      "source": [
        "#select file path for a single file or directory\n",
        "if single_file == True:\n",
        "    file_path = input_dir.joinpath(file_name+file_ext)\n",
        "else:\n",
        "    file_path = input_dir.glob(pattern=file_pattern+\"*\")\n",
        "file_path"
      ],
      "metadata": {
        "id": "ow47solc-ChY"
      },
      "execution_count": null,
      "outputs": []
    },
    {
      "cell_type": "markdown",
      "source": [
        "### Read into pandas dataframe"
      ],
      "metadata": {
        "id": "XPCXOHcJnLZJ"
      }
    },
    {
      "cell_type": "code",
      "source": [
        "df = pd.read_csv(file_path,\n",
        "#                        usecols= cols,\n",
        "#                      sep='\\t',\n",
        "#                        nrows=100,\n",
        "#                       engine='python',\n",
        "#                     encoding='ISO-8859-1'\n",
        "                        )"
      ],
      "metadata": {
        "id": "jbDCkyuGctl4"
      },
      "execution_count": null,
      "outputs": []
    },
    {
      "cell_type": "markdown",
      "source": [
        "# DataFrame Overview"
      ],
      "metadata": {
        "id": "swkyQ1KbWKgv"
      }
    },
    {
      "cell_type": "markdown",
      "source": [
        "## Row and Column Count"
      ],
      "metadata": {
        "id": "-6bdODYR_65L"
      }
    },
    {
      "cell_type": "code",
      "source": [
        "df.shape"
      ],
      "metadata": {
        "id": "ZAsH8L3p_9zp"
      },
      "execution_count": null,
      "outputs": []
    },
    {
      "cell_type": "markdown",
      "source": [
        "## `.info()`"
      ],
      "metadata": {
        "id": "K5jXVe9-UmAR"
      }
    },
    {
      "cell_type": "code",
      "source": [
        "df.info()"
      ],
      "metadata": {
        "id": "1khd9nKSWV9U"
      },
      "execution_count": null,
      "outputs": []
    },
    {
      "cell_type": "code",
      "source": [
        "df.head(5)"
      ],
      "metadata": {
        "id": "90aQqci4SmCg"
      },
      "execution_count": null,
      "outputs": []
    }
  ]
}