{
  "nbformat": 4,
  "nbformat_minor": 0,
  "metadata": {
    "colab": {
      "provenance": [],
      "toc_visible": true
    },
    "kernelspec": {
      "name": "python3",
      "display_name": "Python 3"
    },
    "language_info": {
      "name": "python"
    }
  },
  "cells": [
    {
      "cell_type": "markdown",
      "source": [
        "# Introduction\n",
        "[Add details. This is a new notebook template.]"
      ],
      "metadata": {
        "id": "Q7o520_sh-1z"
      }
    },
    {
      "cell_type": "markdown",
      "source": [
        "# Set Up"
      ],
      "metadata": {
        "id": "W4e-s1BDGPdO"
      }
    },
    {
      "cell_type": "markdown",
      "source": [
        "## Authorize Google Drive\n",
        "Follow pop up prompts to authorize Drive access. May not work with non-Chrome browsers depending on ad block and privacy settings."
      ],
      "metadata": {
        "id": "B-rlmY-bGRa7"
      }
    },
    {
      "cell_type": "code",
      "source": [
        "from google.colab import drive\n",
        "drive.mount('/content/drive/')"
      ],
      "metadata": {
        "id": "5nrbf_1qFxhW",
        "colab": {
          "base_uri": "https://localhost:8080/"
        },
        "outputId": "64be094d-b9a4-4bd1-a2a2-00c677ab1d5a"
      },
      "execution_count": null,
      "outputs": [
        {
          "output_type": "stream",
          "name": "stdout",
          "text": [
            "Drive already mounted at /content/drive/; to attempt to forcibly remount, call drive.mount(\"/content/drive/\", force_remount=True).\n"
          ]
        }
      ]
    },
    {
      "cell_type": "markdown",
      "source": [
        "## Library imports"
      ],
      "metadata": {
        "id": "Iwtt9m-UGk-c"
      }
    },
    {
      "cell_type": "code",
      "source": [
        "#general analysis\n",
        "import pandas as pd\n",
        "import pprint as ppr\n",
        "import re\n",
        "import numpy as np\n",
        "\n",
        "#file management\n",
        "from pathlib import Path\n",
        "from datetime import datetime\n",
        "\n",
        "#stop words counter\n",
        "#from collections import Counter"
      ],
      "metadata": {
        "id": "83asIMIosM1M"
      },
      "execution_count": null,
      "outputs": []
    },
    {
      "cell_type": "markdown",
      "source": [
        "## Display Preferences"
      ],
      "metadata": {
        "id": "D_IH7TCXXI0N"
      }
    },
    {
      "cell_type": "code",
      "source": [
        "#current preferences\n",
        "pd.set_option('display.max_rows', 100)\n",
        "pd.set_option('display.max_columns', None)\n",
        "#pd.set_option('display.max_colwidth', None) #change column display width\n",
        "#pd.set_option('display.precision', 2) #displays 2 decimal places on all numbers\n",
        "pd.set_option('display.float_format',  '{:.2f}'.format)\n",
        "pd.set_option('display.memory_usage', 'deep')"
      ],
      "metadata": {
        "id": "Lg2KRkolOaOD"
      },
      "execution_count": null,
      "outputs": []
    },
    {
      "cell_type": "markdown",
      "source": [
        "# File Handling\n",
        "This section uses parametized forms in Google Colab to simplify file selection.\n",
        "\n",
        "It may require running the same cells multiple times depending on how much information is needed to select the intended file/directory."
      ],
      "metadata": {
        "id": "FnIL3R03nZKL"
      }
    },
    {
      "cell_type": "code",
      "source": [
        "#@title ## File Selection\n",
        "\n",
        "#@markdown ---\n",
        "#@markdown ### Select or enter each part of the filepath:\n",
        "project = \"dunnhumby\" #@param [\"project_01\", \"project_02\"] {allow-input: true}\n",
        "folders = \"data/raw\" #@param [\"data/raw\", \"data/interim\", \"data/processed\", \"data/meta\"] {allow-input: true}\n",
        "#@markdown Check box if selecting 1 specific file.  Leave blank if selecting multiple files from a directory.\n",
        "single_file = True #@param {type:\"boolean\"}\n",
        "#@markdown **Required**: Selects a specific file.  Also used to create name of outputs.\n",
        "file_name = \"transactions_200701\" #@param {type:\"string\"}\n",
        "file_ext = \".csv\" #@param [\".csv\", \".txt\"] {allow-input: true}\n",
        "#@markdown\n",
        "#@markdown Use if selecting specific matching files from a directory.\n",
        "file_pattern = \"transactions_\" #@param [\"\"]{allow-input: true}\n",
        "#@markdown ---"
      ],
      "metadata": {
        "id": "FbE-jbRxcZzo"
      },
      "execution_count": null,
      "outputs": []
    },
    {
      "cell_type": "code",
      "source": [
        "#main project path\n",
        "project_dir = Path.cwd().joinpath(\"drive\", \"MyDrive\", \"data_analysis\", project)\n",
        "project_dir"
      ],
      "metadata": {
        "id": "c1IYHtdPhS_4",
        "colab": {
          "base_uri": "https://localhost:8080/"
        },
        "outputId": "e5529687-f91a-46a6-b6fb-0e4deeca9a8f"
      },
      "execution_count": null,
      "outputs": [
        {
          "output_type": "execute_result",
          "data": {
            "text/plain": [
              "PosixPath('/content/drive/MyDrive/data_analysis/dunnhumby')"
            ]
          },
          "metadata": {},
          "execution_count": 5
        }
      ]
    },
    {
      "cell_type": "code",
      "source": [
        "#input files path\n",
        "input_dir = project_dir.joinpath(folders)\n",
        "input_dir"
      ],
      "metadata": {
        "colab": {
          "base_uri": "https://localhost:8080/"
        },
        "id": "ZyiEH3Iv9oKg",
        "outputId": "e5e776f1-49dd-4a71-c1bb-5f37e8ce505e"
      },
      "execution_count": null,
      "outputs": [
        {
          "output_type": "execute_result",
          "data": {
            "text/plain": [
              "PosixPath('/content/drive/MyDrive/data_analysis/dunnhumby/data/raw')"
            ]
          },
          "metadata": {},
          "execution_count": 6
        }
      ]
    },
    {
      "cell_type": "code",
      "source": [
        "#output files path\n",
        "output_dir = project_dir.joinpath(\"notebooks\", \"eda\")\n",
        "output_dir"
      ],
      "metadata": {
        "colab": {
          "base_uri": "https://localhost:8080/"
        },
        "id": "dyfsBykz-txa",
        "outputId": "ff8bb989-22d2-47ea-ce85-f539a90d80d8"
      },
      "execution_count": null,
      "outputs": [
        {
          "output_type": "execute_result",
          "data": {
            "text/plain": [
              "PosixPath('/content/drive/MyDrive/data_analysis/dunnhumby/notebooks/eda')"
            ]
          },
          "metadata": {},
          "execution_count": 25
        }
      ]
    },
    {
      "cell_type": "code",
      "source": [
        "#unique marker for new files\n",
        "today = datetime.today()"
      ],
      "metadata": {
        "id": "ytQYbi7KK2qt"
      },
      "execution_count": null,
      "outputs": []
    },
    {
      "cell_type": "markdown",
      "source": [
        "### Show files in the selected path\n",
        "This can be adjusted using a glob pattern. Leaving the pattern blank defaults to `*` and returns all items within the directory."
      ],
      "metadata": {
        "id": "CfdNTLTU-ukb"
      }
    },
    {
      "cell_type": "code",
      "source": [
        "#show files in selected path\n",
        "#default '*' returns all files\n",
        "list(input_dir.glob(pattern=file_pattern+\"*\"))"
      ],
      "metadata": {
        "colab": {
          "base_uri": "https://localhost:8080/"
        },
        "id": "x97C7Opl-YQQ",
        "outputId": "da63da01-0f19-4cda-951b-be716d9e9ba8"
      },
      "execution_count": null,
      "outputs": [
        {
          "output_type": "execute_result",
          "data": {
            "text/plain": [
              "[PosixPath('/content/drive/MyDrive/data_analysis/dunnhumby/data/raw/transactions_200607.csv'),\n",
              " PosixPath('/content/drive/MyDrive/data_analysis/dunnhumby/data/raw/transactions_200608.csv'),\n",
              " PosixPath('/content/drive/MyDrive/data_analysis/dunnhumby/data/raw/transactions_200609.csv'),\n",
              " PosixPath('/content/drive/MyDrive/data_analysis/dunnhumby/data/raw/transactions_200610.csv'),\n",
              " PosixPath('/content/drive/MyDrive/data_analysis/dunnhumby/data/raw/transactions_200611.csv'),\n",
              " PosixPath('/content/drive/MyDrive/data_analysis/dunnhumby/data/raw/transactions_200612.csv'),\n",
              " PosixPath('/content/drive/MyDrive/data_analysis/dunnhumby/data/raw/transactions_200613.csv'),\n",
              " PosixPath('/content/drive/MyDrive/data_analysis/dunnhumby/data/raw/transactions_200614.csv'),\n",
              " PosixPath('/content/drive/MyDrive/data_analysis/dunnhumby/data/raw/transactions_200615.csv'),\n",
              " PosixPath('/content/drive/MyDrive/data_analysis/dunnhumby/data/raw/transactions_200616.csv'),\n",
              " PosixPath('/content/drive/MyDrive/data_analysis/dunnhumby/data/raw/transactions_200617.csv'),\n",
              " PosixPath('/content/drive/MyDrive/data_analysis/dunnhumby/data/raw/transactions_200618.csv'),\n",
              " PosixPath('/content/drive/MyDrive/data_analysis/dunnhumby/data/raw/transactions_200619.csv'),\n",
              " PosixPath('/content/drive/MyDrive/data_analysis/dunnhumby/data/raw/transactions_200620.csv'),\n",
              " PosixPath('/content/drive/MyDrive/data_analysis/dunnhumby/data/raw/transactions_200621.csv'),\n",
              " PosixPath('/content/drive/MyDrive/data_analysis/dunnhumby/data/raw/transactions_200622.csv'),\n",
              " PosixPath('/content/drive/MyDrive/data_analysis/dunnhumby/data/raw/transactions_200623.csv'),\n",
              " PosixPath('/content/drive/MyDrive/data_analysis/dunnhumby/data/raw/transactions_200624.csv'),\n",
              " PosixPath('/content/drive/MyDrive/data_analysis/dunnhumby/data/raw/transactions_200625.csv'),\n",
              " PosixPath('/content/drive/MyDrive/data_analysis/dunnhumby/data/raw/transactions_200626.csv'),\n",
              " PosixPath('/content/drive/MyDrive/data_analysis/dunnhumby/data/raw/transactions_200627.csv'),\n",
              " PosixPath('/content/drive/MyDrive/data_analysis/dunnhumby/data/raw/transactions_200628.csv'),\n",
              " PosixPath('/content/drive/MyDrive/data_analysis/dunnhumby/data/raw/transactions_200629.csv'),\n",
              " PosixPath('/content/drive/MyDrive/data_analysis/dunnhumby/data/raw/transactions_200630.csv'),\n",
              " PosixPath('/content/drive/MyDrive/data_analysis/dunnhumby/data/raw/transactions_200631.csv'),\n",
              " PosixPath('/content/drive/MyDrive/data_analysis/dunnhumby/data/raw/transactions_200632.csv'),\n",
              " PosixPath('/content/drive/MyDrive/data_analysis/dunnhumby/data/raw/transactions_200633.csv'),\n",
              " PosixPath('/content/drive/MyDrive/data_analysis/dunnhumby/data/raw/transactions_200634.csv'),\n",
              " PosixPath('/content/drive/MyDrive/data_analysis/dunnhumby/data/raw/transactions_200635.csv'),\n",
              " PosixPath('/content/drive/MyDrive/data_analysis/dunnhumby/data/raw/transactions_200636.csv'),\n",
              " PosixPath('/content/drive/MyDrive/data_analysis/dunnhumby/data/raw/transactions_200637.csv'),\n",
              " PosixPath('/content/drive/MyDrive/data_analysis/dunnhumby/data/raw/transactions_200638.csv'),\n",
              " PosixPath('/content/drive/MyDrive/data_analysis/dunnhumby/data/raw/transactions_200639.csv'),\n",
              " PosixPath('/content/drive/MyDrive/data_analysis/dunnhumby/data/raw/transactions_200640.csv'),\n",
              " PosixPath('/content/drive/MyDrive/data_analysis/dunnhumby/data/raw/transactions_200641.csv'),\n",
              " PosixPath('/content/drive/MyDrive/data_analysis/dunnhumby/data/raw/transactions_200642.csv'),\n",
              " PosixPath('/content/drive/MyDrive/data_analysis/dunnhumby/data/raw/transactions_200643.csv'),\n",
              " PosixPath('/content/drive/MyDrive/data_analysis/dunnhumby/data/raw/transactions_200644.csv'),\n",
              " PosixPath('/content/drive/MyDrive/data_analysis/dunnhumby/data/raw/transactions_200645.csv'),\n",
              " PosixPath('/content/drive/MyDrive/data_analysis/dunnhumby/data/raw/transactions_200646.csv'),\n",
              " PosixPath('/content/drive/MyDrive/data_analysis/dunnhumby/data/raw/transactions_200647.csv'),\n",
              " PosixPath('/content/drive/MyDrive/data_analysis/dunnhumby/data/raw/transactions_200648.csv'),\n",
              " PosixPath('/content/drive/MyDrive/data_analysis/dunnhumby/data/raw/transactions_200649.csv'),\n",
              " PosixPath('/content/drive/MyDrive/data_analysis/dunnhumby/data/raw/transactions_200650.csv'),\n",
              " PosixPath('/content/drive/MyDrive/data_analysis/dunnhumby/data/raw/transactions_200651.csv'),\n",
              " PosixPath('/content/drive/MyDrive/data_analysis/dunnhumby/data/raw/transactions_200652.csv'),\n",
              " PosixPath('/content/drive/MyDrive/data_analysis/dunnhumby/data/raw/transactions_200701.csv'),\n",
              " PosixPath('/content/drive/MyDrive/data_analysis/dunnhumby/data/raw/transactions_200702.csv'),\n",
              " PosixPath('/content/drive/MyDrive/data_analysis/dunnhumby/data/raw/transactions_200703.csv'),\n",
              " PosixPath('/content/drive/MyDrive/data_analysis/dunnhumby/data/raw/transactions_200704.csv'),\n",
              " PosixPath('/content/drive/MyDrive/data_analysis/dunnhumby/data/raw/transactions_200705.csv'),\n",
              " PosixPath('/content/drive/MyDrive/data_analysis/dunnhumby/data/raw/transactions_200706.csv'),\n",
              " PosixPath('/content/drive/MyDrive/data_analysis/dunnhumby/data/raw/transactions_200707.csv'),\n",
              " PosixPath('/content/drive/MyDrive/data_analysis/dunnhumby/data/raw/transactions_200708.csv'),\n",
              " PosixPath('/content/drive/MyDrive/data_analysis/dunnhumby/data/raw/transactions_200709.csv'),\n",
              " PosixPath('/content/drive/MyDrive/data_analysis/dunnhumby/data/raw/transactions_200710.csv'),\n",
              " PosixPath('/content/drive/MyDrive/data_analysis/dunnhumby/data/raw/transactions_200711.csv'),\n",
              " PosixPath('/content/drive/MyDrive/data_analysis/dunnhumby/data/raw/transactions_200712.csv'),\n",
              " PosixPath('/content/drive/MyDrive/data_analysis/dunnhumby/data/raw/transactions_200713.csv'),\n",
              " PosixPath('/content/drive/MyDrive/data_analysis/dunnhumby/data/raw/transactions_200714.csv'),\n",
              " PosixPath('/content/drive/MyDrive/data_analysis/dunnhumby/data/raw/transactions_200715.csv'),\n",
              " PosixPath('/content/drive/MyDrive/data_analysis/dunnhumby/data/raw/transactions_200716.csv'),\n",
              " PosixPath('/content/drive/MyDrive/data_analysis/dunnhumby/data/raw/transactions_200717.csv'),\n",
              " PosixPath('/content/drive/MyDrive/data_analysis/dunnhumby/data/raw/transactions_200718.csv'),\n",
              " PosixPath('/content/drive/MyDrive/data_analysis/dunnhumby/data/raw/transactions_200719.csv'),\n",
              " PosixPath('/content/drive/MyDrive/data_analysis/dunnhumby/data/raw/transactions_200720.csv'),\n",
              " PosixPath('/content/drive/MyDrive/data_analysis/dunnhumby/data/raw/transactions_200721.csv'),\n",
              " PosixPath('/content/drive/MyDrive/data_analysis/dunnhumby/data/raw/transactions_200722.csv'),\n",
              " PosixPath('/content/drive/MyDrive/data_analysis/dunnhumby/data/raw/transactions_200723.csv'),\n",
              " PosixPath('/content/drive/MyDrive/data_analysis/dunnhumby/data/raw/transactions_200724.csv'),\n",
              " PosixPath('/content/drive/MyDrive/data_analysis/dunnhumby/data/raw/transactions_200725.csv'),\n",
              " PosixPath('/content/drive/MyDrive/data_analysis/dunnhumby/data/raw/transactions_200726.csv'),\n",
              " PosixPath('/content/drive/MyDrive/data_analysis/dunnhumby/data/raw/transactions_200727.csv'),\n",
              " PosixPath('/content/drive/MyDrive/data_analysis/dunnhumby/data/raw/transactions_200728.csv'),\n",
              " PosixPath('/content/drive/MyDrive/data_analysis/dunnhumby/data/raw/transactions_200729.csv'),\n",
              " PosixPath('/content/drive/MyDrive/data_analysis/dunnhumby/data/raw/transactions_200730.csv'),\n",
              " PosixPath('/content/drive/MyDrive/data_analysis/dunnhumby/data/raw/transactions_200731.csv'),\n",
              " PosixPath('/content/drive/MyDrive/data_analysis/dunnhumby/data/raw/transactions_200732.csv'),\n",
              " PosixPath('/content/drive/MyDrive/data_analysis/dunnhumby/data/raw/transactions_200733.csv'),\n",
              " PosixPath('/content/drive/MyDrive/data_analysis/dunnhumby/data/raw/transactions_200734.csv'),\n",
              " PosixPath('/content/drive/MyDrive/data_analysis/dunnhumby/data/raw/transactions_200735.csv'),\n",
              " PosixPath('/content/drive/MyDrive/data_analysis/dunnhumby/data/raw/transactions_200736.csv'),\n",
              " PosixPath('/content/drive/MyDrive/data_analysis/dunnhumby/data/raw/transactions_200737.csv'),\n",
              " PosixPath('/content/drive/MyDrive/data_analysis/dunnhumby/data/raw/transactions_200738.csv'),\n",
              " PosixPath('/content/drive/MyDrive/data_analysis/dunnhumby/data/raw/transactions_200739.csv'),\n",
              " PosixPath('/content/drive/MyDrive/data_analysis/dunnhumby/data/raw/transactions_200740.csv'),\n",
              " PosixPath('/content/drive/MyDrive/data_analysis/dunnhumby/data/raw/transactions_200741.csv'),\n",
              " PosixPath('/content/drive/MyDrive/data_analysis/dunnhumby/data/raw/transactions_200742.csv'),\n",
              " PosixPath('/content/drive/MyDrive/data_analysis/dunnhumby/data/raw/transactions_200743.csv'),\n",
              " PosixPath('/content/drive/MyDrive/data_analysis/dunnhumby/data/raw/transactions_200744.csv'),\n",
              " PosixPath('/content/drive/MyDrive/data_analysis/dunnhumby/data/raw/transactions_200745.csv'),\n",
              " PosixPath('/content/drive/MyDrive/data_analysis/dunnhumby/data/raw/transactions_200746.csv'),\n",
              " PosixPath('/content/drive/MyDrive/data_analysis/dunnhumby/data/raw/transactions_200747.csv'),\n",
              " PosixPath('/content/drive/MyDrive/data_analysis/dunnhumby/data/raw/transactions_200748.csv'),\n",
              " PosixPath('/content/drive/MyDrive/data_analysis/dunnhumby/data/raw/transactions_200749.csv'),\n",
              " PosixPath('/content/drive/MyDrive/data_analysis/dunnhumby/data/raw/transactions_200750.csv'),\n",
              " PosixPath('/content/drive/MyDrive/data_analysis/dunnhumby/data/raw/transactions_200751.csv'),\n",
              " PosixPath('/content/drive/MyDrive/data_analysis/dunnhumby/data/raw/transactions_200752.csv'),\n",
              " PosixPath('/content/drive/MyDrive/data_analysis/dunnhumby/data/raw/transactions_200801.csv'),\n",
              " PosixPath('/content/drive/MyDrive/data_analysis/dunnhumby/data/raw/transactions_200802.csv'),\n",
              " PosixPath('/content/drive/MyDrive/data_analysis/dunnhumby/data/raw/transactions_200803.csv'),\n",
              " PosixPath('/content/drive/MyDrive/data_analysis/dunnhumby/data/raw/transactions_200804.csv'),\n",
              " PosixPath('/content/drive/MyDrive/data_analysis/dunnhumby/data/raw/transactions_200805.csv'),\n",
              " PosixPath('/content/drive/MyDrive/data_analysis/dunnhumby/data/raw/transactions_200806.csv'),\n",
              " PosixPath('/content/drive/MyDrive/data_analysis/dunnhumby/data/raw/transactions_200807.csv'),\n",
              " PosixPath('/content/drive/MyDrive/data_analysis/dunnhumby/data/raw/transactions_200808.csv'),\n",
              " PosixPath('/content/drive/MyDrive/data_analysis/dunnhumby/data/raw/transactions_200809.csv'),\n",
              " PosixPath('/content/drive/MyDrive/data_analysis/dunnhumby/data/raw/transactions_200810.csv'),\n",
              " PosixPath('/content/drive/MyDrive/data_analysis/dunnhumby/data/raw/transactions_200811.csv'),\n",
              " PosixPath('/content/drive/MyDrive/data_analysis/dunnhumby/data/raw/transactions_200812.csv'),\n",
              " PosixPath('/content/drive/MyDrive/data_analysis/dunnhumby/data/raw/transactions_200813.csv'),\n",
              " PosixPath('/content/drive/MyDrive/data_analysis/dunnhumby/data/raw/transactions_200814.csv'),\n",
              " PosixPath('/content/drive/MyDrive/data_analysis/dunnhumby/data/raw/transactions_200815.csv'),\n",
              " PosixPath('/content/drive/MyDrive/data_analysis/dunnhumby/data/raw/transactions_200816.csv'),\n",
              " PosixPath('/content/drive/MyDrive/data_analysis/dunnhumby/data/raw/transactions_200817.csv'),\n",
              " PosixPath('/content/drive/MyDrive/data_analysis/dunnhumby/data/raw/transactions_200818.csv'),\n",
              " PosixPath('/content/drive/MyDrive/data_analysis/dunnhumby/data/raw/transactions_200819.csv')]"
            ]
          },
          "metadata": {},
          "execution_count": 9
        }
      ]
    },
    {
      "cell_type": "markdown",
      "source": [
        "### create final read-in path\n",
        "this conditional statement selects the correct path based on the `single_file` checkbox in the form."
      ],
      "metadata": {
        "id": "sQsyKllgJUkE"
      }
    },
    {
      "cell_type": "code",
      "source": [
        "#select file path for a single file or directory\n",
        "if single_file == True:\n",
        "    file_path = input_dir.joinpath(file_name+file_ext)\n",
        "else:\n",
        "    file_path = input_dir.glob(pattern=file_pattern+\"*\")\n",
        "file_path"
      ],
      "metadata": {
        "colab": {
          "base_uri": "https://localhost:8080/"
        },
        "id": "ow47solc-ChY",
        "outputId": "42319f06-592a-41dc-a5a3-b707e82f00c6"
      },
      "execution_count": null,
      "outputs": [
        {
          "output_type": "execute_result",
          "data": {
            "text/plain": [
              "PosixPath('/content/drive/MyDrive/data_analysis/dunnhumby/data/raw/transactions_200701.csv')"
            ]
          },
          "metadata": {},
          "execution_count": 39
        }
      ]
    },
    {
      "cell_type": "markdown",
      "source": [
        "### Read into pandas dataframe"
      ],
      "metadata": {
        "id": "XPCXOHcJnLZJ"
      }
    },
    {
      "cell_type": "code",
      "source": [
        "df = pd.read_csv(file_path,\n",
        "#                        usecols= cols,\n",
        "#                      sep='\\t',\n",
        "#                        nrows=100,\n",
        "#                       engine='python',\n",
        "#                     encoding='ISO-8859-1'\n",
        "                        )"
      ],
      "metadata": {
        "id": "jbDCkyuGctl4"
      },
      "execution_count": null,
      "outputs": []
    },
    {
      "cell_type": "markdown",
      "source": [
        "# DataFrame Overview"
      ],
      "metadata": {
        "id": "swkyQ1KbWKgv"
      }
    },
    {
      "cell_type": "markdown",
      "source": [
        "## Row and Column Count"
      ],
      "metadata": {
        "id": "-6bdODYR_65L"
      }
    },
    {
      "cell_type": "code",
      "source": [
        "df.shape"
      ],
      "metadata": {
        "colab": {
          "base_uri": "https://localhost:8080/"
        },
        "id": "ZAsH8L3p_9zp",
        "outputId": "875c3b61-553a-4328-a506-5568b0cbb39b"
      },
      "execution_count": null,
      "outputs": [
        {
          "output_type": "execute_result",
          "data": {
            "text/plain": [
              "(277100, 22)"
            ]
          },
          "metadata": {},
          "execution_count": 12
        }
      ]
    },
    {
      "cell_type": "markdown",
      "source": [
        "## `.info()`"
      ],
      "metadata": {
        "id": "K5jXVe9-UmAR"
      }
    },
    {
      "cell_type": "code",
      "source": [
        "df.info()"
      ],
      "metadata": {
        "colab": {
          "base_uri": "https://localhost:8080/"
        },
        "id": "1khd9nKSWV9U",
        "outputId": "d18fea05-b6b9-41f9-e079-0f10eca4cbe0"
      },
      "execution_count": null,
      "outputs": [
        {
          "output_type": "stream",
          "name": "stdout",
          "text": [
            "<class 'pandas.core.frame.DataFrame'>\n",
            "RangeIndex: 277100 entries, 0 to 277099\n",
            "Data columns (total 22 columns):\n",
            " #   Column                    Non-Null Count   Dtype  \n",
            "---  ------                    --------------   -----  \n",
            " 0   SHOP_WEEK                 277100 non-null  int64  \n",
            " 1   SHOP_DATE                 277100 non-null  int64  \n",
            " 2   SHOP_WEEKDAY              277100 non-null  int64  \n",
            " 3   SHOP_HOUR                 277100 non-null  int64  \n",
            " 4   QUANTITY                  277100 non-null  int64  \n",
            " 5   SPEND                     277100 non-null  float64\n",
            " 6   PROD_CODE                 277100 non-null  object \n",
            " 7   PROD_CODE_10              277100 non-null  object \n",
            " 8   PROD_CODE_20              277100 non-null  object \n",
            " 9   PROD_CODE_30              277100 non-null  object \n",
            " 10  PROD_CODE_40              277100 non-null  object \n",
            " 11  CUST_CODE                 226383 non-null  object \n",
            " 12  CUST_PRICE_SENSITIVITY    226383 non-null  object \n",
            " 13  CUST_LIFESTAGE            198732 non-null  object \n",
            " 14  BASKET_ID                 277100 non-null  int64  \n",
            " 15  BASKET_SIZE               277100 non-null  object \n",
            " 16  BASKET_PRICE_SENSITIVITY  277100 non-null  object \n",
            " 17  BASKET_TYPE               277100 non-null  object \n",
            " 18  BASKET_DOMINANT_MISSION   277100 non-null  object \n",
            " 19  STORE_CODE                277100 non-null  object \n",
            " 20  STORE_FORMAT              277100 non-null  object \n",
            " 21  STORE_REGION              277100 non-null  object \n",
            "dtypes: float64(1), int64(6), object(15)\n",
            "memory usage: 258.3 MB\n"
          ]
        }
      ]
    },
    {
      "cell_type": "code",
      "source": [
        "df.head(5)"
      ],
      "metadata": {
        "id": "90aQqci4SmCg",
        "colab": {
          "base_uri": "https://localhost:8080/",
          "height": 383
        },
        "outputId": "0187f545-c766-4fed-87b9-de6c2b1c57db"
      },
      "execution_count": null,
      "outputs": [
        {
          "output_type": "execute_result",
          "data": {
            "text/plain": [
              "   SHOP_WEEK  SHOP_DATE  SHOP_WEEKDAY  SHOP_HOUR  QUANTITY  SPEND   PROD_CODE  \\\n",
              "0     200701   20070304             1         17         1   1.13  PRD0900013   \n",
              "1     200701   20070301             5         19         1   1.10  PRD0900015   \n",
              "2     200701   20070303             7         12         1   1.00  PRD0900015   \n",
              "3     200701   20070303             7         15         3   4.68  PRD0900049   \n",
              "4     200701   20070302             6         14         1   1.04  PRD0900055   \n",
              "5     200701   20070304             1         14         1   1.60  PRD0900062   \n",
              "6     200701   20070301             5         21         1   2.36  PRD0900071   \n",
              "7     200701   20070304             1         12         1   1.05  PRD0900077   \n",
              "8     200701   20070304             1         12         1   1.05  PRD0900077   \n",
              "9     200701   20070304             1         12         3   3.72  PRD0900086   \n",
              "\n",
              "  PROD_CODE_10 PROD_CODE_20 PROD_CODE_30 PROD_CODE_40       CUST_CODE  \\\n",
              "0      CL00015     DEP00004       G00003       D00001  CUST0000361701   \n",
              "1      CL00015     DEP00004       G00003       D00001  CUST0000871730   \n",
              "2      CL00015     DEP00004       G00003       D00001  CUST0000949903   \n",
              "3      CL00160     DEP00054       G00016       D00003  CUST0000644893   \n",
              "4      CL00230     DEP00081       G00027       D00008  CUST0000926111   \n",
              "5      CL00175     DEP00059       G00017       D00004  CUST0000605487   \n",
              "6      CL00086     DEP00024       G00007       D00002  CUST0000666576   \n",
              "7      CL00150     DEP00052       G00015       D00003  CUST0000710863   \n",
              "8      CL00150     DEP00052       G00015       D00003  CUST0000795333   \n",
              "9      CL00067     DEP00019       G00007       D00002  CUST0000710863   \n",
              "\n",
              "  CUST_PRICE_SENSITIVITY CUST_LIFESTAGE        BASKET_ID BASKET_SIZE  \\\n",
              "0                     MM             YA  994104700394636           L   \n",
              "1                     UM            NaN  994104700728646           S   \n",
              "2                     MM             PE  994104700780122           M   \n",
              "3                     LA             PE  994104700579780           L   \n",
              "4                     UM             OT  994104700764453           L   \n",
              "5                     LA             YF  994104700553719           M   \n",
              "6                     MM             YA  994104700593739           L   \n",
              "7                     LA             YF  994104700622917           L   \n",
              "8                     MM            NaN  994104700678351           L   \n",
              "9                     LA             YF  994104700622917           L   \n",
              "\n",
              "  BASKET_PRICE_SENSITIVITY BASKET_TYPE BASKET_DOMINANT_MISSION  STORE_CODE  \\\n",
              "0                       MM   Full Shop                   Mixed  STORE00001   \n",
              "1                       MM  Small Shop                   Fresh  STORE00001   \n",
              "2                       UM      Top Up                   Fresh  STORE00001   \n",
              "3                       LA      Top Up                   Mixed  STORE00001   \n",
              "4                       UM      Top Up                   Fresh  STORE00001   \n",
              "5                       MM      Top Up                   Mixed  STORE00001   \n",
              "6                       MM   Full Shop                   Mixed  STORE00001   \n",
              "7                       MM   Full Shop                   Mixed  STORE00001   \n",
              "8                       MM   Full Shop                   Mixed  STORE00001   \n",
              "9                       MM   Full Shop                   Mixed  STORE00001   \n",
              "\n",
              "  STORE_FORMAT STORE_REGION  \n",
              "0           LS          E02  \n",
              "1           LS          E02  \n",
              "2           LS          E02  \n",
              "3           LS          E02  \n",
              "4           LS          E02  \n",
              "5           LS          E02  \n",
              "6           LS          E02  \n",
              "7           LS          E02  \n",
              "8           LS          E02  \n",
              "9           LS          E02  "
            ],
            "text/html": [
              "\n",
              "  <div id=\"df-09adec9e-8a5c-4cc0-a69b-83555ebd0082\" class=\"colab-df-container\">\n",
              "    <div>\n",
              "<style scoped>\n",
              "    .dataframe tbody tr th:only-of-type {\n",
              "        vertical-align: middle;\n",
              "    }\n",
              "\n",
              "    .dataframe tbody tr th {\n",
              "        vertical-align: top;\n",
              "    }\n",
              "\n",
              "    .dataframe thead th {\n",
              "        text-align: right;\n",
              "    }\n",
              "</style>\n",
              "<table border=\"1\" class=\"dataframe\">\n",
              "  <thead>\n",
              "    <tr style=\"text-align: right;\">\n",
              "      <th></th>\n",
              "      <th>SHOP_WEEK</th>\n",
              "      <th>SHOP_DATE</th>\n",
              "      <th>SHOP_WEEKDAY</th>\n",
              "      <th>SHOP_HOUR</th>\n",
              "      <th>QUANTITY</th>\n",
              "      <th>SPEND</th>\n",
              "      <th>PROD_CODE</th>\n",
              "      <th>PROD_CODE_10</th>\n",
              "      <th>PROD_CODE_20</th>\n",
              "      <th>PROD_CODE_30</th>\n",
              "      <th>PROD_CODE_40</th>\n",
              "      <th>CUST_CODE</th>\n",
              "      <th>CUST_PRICE_SENSITIVITY</th>\n",
              "      <th>CUST_LIFESTAGE</th>\n",
              "      <th>BASKET_ID</th>\n",
              "      <th>BASKET_SIZE</th>\n",
              "      <th>BASKET_PRICE_SENSITIVITY</th>\n",
              "      <th>BASKET_TYPE</th>\n",
              "      <th>BASKET_DOMINANT_MISSION</th>\n",
              "      <th>STORE_CODE</th>\n",
              "      <th>STORE_FORMAT</th>\n",
              "      <th>STORE_REGION</th>\n",
              "    </tr>\n",
              "  </thead>\n",
              "  <tbody>\n",
              "    <tr>\n",
              "      <th>0</th>\n",
              "      <td>200701</td>\n",
              "      <td>20070304</td>\n",
              "      <td>1</td>\n",
              "      <td>17</td>\n",
              "      <td>1</td>\n",
              "      <td>1.13</td>\n",
              "      <td>PRD0900013</td>\n",
              "      <td>CL00015</td>\n",
              "      <td>DEP00004</td>\n",
              "      <td>G00003</td>\n",
              "      <td>D00001</td>\n",
              "      <td>CUST0000361701</td>\n",
              "      <td>MM</td>\n",
              "      <td>YA</td>\n",
              "      <td>994104700394636</td>\n",
              "      <td>L</td>\n",
              "      <td>MM</td>\n",
              "      <td>Full Shop</td>\n",
              "      <td>Mixed</td>\n",
              "      <td>STORE00001</td>\n",
              "      <td>LS</td>\n",
              "      <td>E02</td>\n",
              "    </tr>\n",
              "    <tr>\n",
              "      <th>1</th>\n",
              "      <td>200701</td>\n",
              "      <td>20070301</td>\n",
              "      <td>5</td>\n",
              "      <td>19</td>\n",
              "      <td>1</td>\n",
              "      <td>1.10</td>\n",
              "      <td>PRD0900015</td>\n",
              "      <td>CL00015</td>\n",
              "      <td>DEP00004</td>\n",
              "      <td>G00003</td>\n",
              "      <td>D00001</td>\n",
              "      <td>CUST0000871730</td>\n",
              "      <td>UM</td>\n",
              "      <td>NaN</td>\n",
              "      <td>994104700728646</td>\n",
              "      <td>S</td>\n",
              "      <td>MM</td>\n",
              "      <td>Small Shop</td>\n",
              "      <td>Fresh</td>\n",
              "      <td>STORE00001</td>\n",
              "      <td>LS</td>\n",
              "      <td>E02</td>\n",
              "    </tr>\n",
              "    <tr>\n",
              "      <th>2</th>\n",
              "      <td>200701</td>\n",
              "      <td>20070303</td>\n",
              "      <td>7</td>\n",
              "      <td>12</td>\n",
              "      <td>1</td>\n",
              "      <td>1.00</td>\n",
              "      <td>PRD0900015</td>\n",
              "      <td>CL00015</td>\n",
              "      <td>DEP00004</td>\n",
              "      <td>G00003</td>\n",
              "      <td>D00001</td>\n",
              "      <td>CUST0000949903</td>\n",
              "      <td>MM</td>\n",
              "      <td>PE</td>\n",
              "      <td>994104700780122</td>\n",
              "      <td>M</td>\n",
              "      <td>UM</td>\n",
              "      <td>Top Up</td>\n",
              "      <td>Fresh</td>\n",
              "      <td>STORE00001</td>\n",
              "      <td>LS</td>\n",
              "      <td>E02</td>\n",
              "    </tr>\n",
              "    <tr>\n",
              "      <th>3</th>\n",
              "      <td>200701</td>\n",
              "      <td>20070303</td>\n",
              "      <td>7</td>\n",
              "      <td>15</td>\n",
              "      <td>3</td>\n",
              "      <td>4.68</td>\n",
              "      <td>PRD0900049</td>\n",
              "      <td>CL00160</td>\n",
              "      <td>DEP00054</td>\n",
              "      <td>G00016</td>\n",
              "      <td>D00003</td>\n",
              "      <td>CUST0000644893</td>\n",
              "      <td>LA</td>\n",
              "      <td>PE</td>\n",
              "      <td>994104700579780</td>\n",
              "      <td>L</td>\n",
              "      <td>LA</td>\n",
              "      <td>Top Up</td>\n",
              "      <td>Mixed</td>\n",
              "      <td>STORE00001</td>\n",
              "      <td>LS</td>\n",
              "      <td>E02</td>\n",
              "    </tr>\n",
              "    <tr>\n",
              "      <th>4</th>\n",
              "      <td>200701</td>\n",
              "      <td>20070302</td>\n",
              "      <td>6</td>\n",
              "      <td>14</td>\n",
              "      <td>1</td>\n",
              "      <td>1.04</td>\n",
              "      <td>PRD0900055</td>\n",
              "      <td>CL00230</td>\n",
              "      <td>DEP00081</td>\n",
              "      <td>G00027</td>\n",
              "      <td>D00008</td>\n",
              "      <td>CUST0000926111</td>\n",
              "      <td>UM</td>\n",
              "      <td>OT</td>\n",
              "      <td>994104700764453</td>\n",
              "      <td>L</td>\n",
              "      <td>UM</td>\n",
              "      <td>Top Up</td>\n",
              "      <td>Fresh</td>\n",
              "      <td>STORE00001</td>\n",
              "      <td>LS</td>\n",
              "      <td>E02</td>\n",
              "    </tr>\n",
              "    <tr>\n",
              "      <th>5</th>\n",
              "      <td>200701</td>\n",
              "      <td>20070304</td>\n",
              "      <td>1</td>\n",
              "      <td>14</td>\n",
              "      <td>1</td>\n",
              "      <td>1.60</td>\n",
              "      <td>PRD0900062</td>\n",
              "      <td>CL00175</td>\n",
              "      <td>DEP00059</td>\n",
              "      <td>G00017</td>\n",
              "      <td>D00004</td>\n",
              "      <td>CUST0000605487</td>\n",
              "      <td>LA</td>\n",
              "      <td>YF</td>\n",
              "      <td>994104700553719</td>\n",
              "      <td>M</td>\n",
              "      <td>MM</td>\n",
              "      <td>Top Up</td>\n",
              "      <td>Mixed</td>\n",
              "      <td>STORE00001</td>\n",
              "      <td>LS</td>\n",
              "      <td>E02</td>\n",
              "    </tr>\n",
              "    <tr>\n",
              "      <th>6</th>\n",
              "      <td>200701</td>\n",
              "      <td>20070301</td>\n",
              "      <td>5</td>\n",
              "      <td>21</td>\n",
              "      <td>1</td>\n",
              "      <td>2.36</td>\n",
              "      <td>PRD0900071</td>\n",
              "      <td>CL00086</td>\n",
              "      <td>DEP00024</td>\n",
              "      <td>G00007</td>\n",
              "      <td>D00002</td>\n",
              "      <td>CUST0000666576</td>\n",
              "      <td>MM</td>\n",
              "      <td>YA</td>\n",
              "      <td>994104700593739</td>\n",
              "      <td>L</td>\n",
              "      <td>MM</td>\n",
              "      <td>Full Shop</td>\n",
              "      <td>Mixed</td>\n",
              "      <td>STORE00001</td>\n",
              "      <td>LS</td>\n",
              "      <td>E02</td>\n",
              "    </tr>\n",
              "    <tr>\n",
              "      <th>7</th>\n",
              "      <td>200701</td>\n",
              "      <td>20070304</td>\n",
              "      <td>1</td>\n",
              "      <td>12</td>\n",
              "      <td>1</td>\n",
              "      <td>1.05</td>\n",
              "      <td>PRD0900077</td>\n",
              "      <td>CL00150</td>\n",
              "      <td>DEP00052</td>\n",
              "      <td>G00015</td>\n",
              "      <td>D00003</td>\n",
              "      <td>CUST0000710863</td>\n",
              "      <td>LA</td>\n",
              "      <td>YF</td>\n",
              "      <td>994104700622917</td>\n",
              "      <td>L</td>\n",
              "      <td>MM</td>\n",
              "      <td>Full Shop</td>\n",
              "      <td>Mixed</td>\n",
              "      <td>STORE00001</td>\n",
              "      <td>LS</td>\n",
              "      <td>E02</td>\n",
              "    </tr>\n",
              "    <tr>\n",
              "      <th>8</th>\n",
              "      <td>200701</td>\n",
              "      <td>20070304</td>\n",
              "      <td>1</td>\n",
              "      <td>12</td>\n",
              "      <td>1</td>\n",
              "      <td>1.05</td>\n",
              "      <td>PRD0900077</td>\n",
              "      <td>CL00150</td>\n",
              "      <td>DEP00052</td>\n",
              "      <td>G00015</td>\n",
              "      <td>D00003</td>\n",
              "      <td>CUST0000795333</td>\n",
              "      <td>MM</td>\n",
              "      <td>NaN</td>\n",
              "      <td>994104700678351</td>\n",
              "      <td>L</td>\n",
              "      <td>MM</td>\n",
              "      <td>Full Shop</td>\n",
              "      <td>Mixed</td>\n",
              "      <td>STORE00001</td>\n",
              "      <td>LS</td>\n",
              "      <td>E02</td>\n",
              "    </tr>\n",
              "    <tr>\n",
              "      <th>9</th>\n",
              "      <td>200701</td>\n",
              "      <td>20070304</td>\n",
              "      <td>1</td>\n",
              "      <td>12</td>\n",
              "      <td>3</td>\n",
              "      <td>3.72</td>\n",
              "      <td>PRD0900086</td>\n",
              "      <td>CL00067</td>\n",
              "      <td>DEP00019</td>\n",
              "      <td>G00007</td>\n",
              "      <td>D00002</td>\n",
              "      <td>CUST0000710863</td>\n",
              "      <td>LA</td>\n",
              "      <td>YF</td>\n",
              "      <td>994104700622917</td>\n",
              "      <td>L</td>\n",
              "      <td>MM</td>\n",
              "      <td>Full Shop</td>\n",
              "      <td>Mixed</td>\n",
              "      <td>STORE00001</td>\n",
              "      <td>LS</td>\n",
              "      <td>E02</td>\n",
              "    </tr>\n",
              "  </tbody>\n",
              "</table>\n",
              "</div>\n",
              "    <div class=\"colab-df-buttons\">\n",
              "\n",
              "  <div class=\"colab-df-container\">\n",
              "    <button class=\"colab-df-convert\" onclick=\"convertToInteractive('df-09adec9e-8a5c-4cc0-a69b-83555ebd0082')\"\n",
              "            title=\"Convert this dataframe to an interactive table.\"\n",
              "            style=\"display:none;\">\n",
              "\n",
              "  <svg xmlns=\"http://www.w3.org/2000/svg\" height=\"24px\" viewBox=\"0 -960 960 960\">\n",
              "    <path d=\"M120-120v-720h720v720H120Zm60-500h600v-160H180v160Zm220 220h160v-160H400v160Zm0 220h160v-160H400v160ZM180-400h160v-160H180v160Zm440 0h160v-160H620v160ZM180-180h160v-160H180v160Zm440 0h160v-160H620v160Z\"/>\n",
              "  </svg>\n",
              "    </button>\n",
              "\n",
              "  <style>\n",
              "    .colab-df-container {\n",
              "      display:flex;\n",
              "      gap: 12px;\n",
              "    }\n",
              "\n",
              "    .colab-df-convert {\n",
              "      background-color: #E8F0FE;\n",
              "      border: none;\n",
              "      border-radius: 50%;\n",
              "      cursor: pointer;\n",
              "      display: none;\n",
              "      fill: #1967D2;\n",
              "      height: 32px;\n",
              "      padding: 0 0 0 0;\n",
              "      width: 32px;\n",
              "    }\n",
              "\n",
              "    .colab-df-convert:hover {\n",
              "      background-color: #E2EBFA;\n",
              "      box-shadow: 0px 1px 2px rgba(60, 64, 67, 0.3), 0px 1px 3px 1px rgba(60, 64, 67, 0.15);\n",
              "      fill: #174EA6;\n",
              "    }\n",
              "\n",
              "    .colab-df-buttons div {\n",
              "      margin-bottom: 4px;\n",
              "    }\n",
              "\n",
              "    [theme=dark] .colab-df-convert {\n",
              "      background-color: #3B4455;\n",
              "      fill: #D2E3FC;\n",
              "    }\n",
              "\n",
              "    [theme=dark] .colab-df-convert:hover {\n",
              "      background-color: #434B5C;\n",
              "      box-shadow: 0px 1px 3px 1px rgba(0, 0, 0, 0.15);\n",
              "      filter: drop-shadow(0px 1px 2px rgba(0, 0, 0, 0.3));\n",
              "      fill: #FFFFFF;\n",
              "    }\n",
              "  </style>\n",
              "\n",
              "    <script>\n",
              "      const buttonEl =\n",
              "        document.querySelector('#df-09adec9e-8a5c-4cc0-a69b-83555ebd0082 button.colab-df-convert');\n",
              "      buttonEl.style.display =\n",
              "        google.colab.kernel.accessAllowed ? 'block' : 'none';\n",
              "\n",
              "      async function convertToInteractive(key) {\n",
              "        const element = document.querySelector('#df-09adec9e-8a5c-4cc0-a69b-83555ebd0082');\n",
              "        const dataTable =\n",
              "          await google.colab.kernel.invokeFunction('convertToInteractive',\n",
              "                                                    [key], {});\n",
              "        if (!dataTable) return;\n",
              "\n",
              "        const docLinkHtml = 'Like what you see? Visit the ' +\n",
              "          '<a target=\"_blank\" href=https://colab.research.google.com/notebooks/data_table.ipynb>data table notebook</a>'\n",
              "          + ' to learn more about interactive tables.';\n",
              "        element.innerHTML = '';\n",
              "        dataTable['output_type'] = 'display_data';\n",
              "        await google.colab.output.renderOutput(dataTable, element);\n",
              "        const docLink = document.createElement('div');\n",
              "        docLink.innerHTML = docLinkHtml;\n",
              "        element.appendChild(docLink);\n",
              "      }\n",
              "    </script>\n",
              "  </div>\n",
              "\n",
              "\n",
              "<div id=\"df-6eb17e3b-aabf-4a5f-bf84-9d2d496249a5\">\n",
              "  <button class=\"colab-df-quickchart\" onclick=\"quickchart('df-6eb17e3b-aabf-4a5f-bf84-9d2d496249a5')\"\n",
              "            title=\"Suggest charts.\"\n",
              "            style=\"display:none;\">\n",
              "\n",
              "<svg xmlns=\"http://www.w3.org/2000/svg\" height=\"24px\"viewBox=\"0 0 24 24\"\n",
              "     width=\"24px\">\n",
              "    <g>\n",
              "        <path d=\"M19 3H5c-1.1 0-2 .9-2 2v14c0 1.1.9 2 2 2h14c1.1 0 2-.9 2-2V5c0-1.1-.9-2-2-2zM9 17H7v-7h2v7zm4 0h-2V7h2v10zm4 0h-2v-4h2v4z\"/>\n",
              "    </g>\n",
              "</svg>\n",
              "  </button>\n",
              "\n",
              "<style>\n",
              "  .colab-df-quickchart {\n",
              "      --bg-color: #E8F0FE;\n",
              "      --fill-color: #1967D2;\n",
              "      --hover-bg-color: #E2EBFA;\n",
              "      --hover-fill-color: #174EA6;\n",
              "      --disabled-fill-color: #AAA;\n",
              "      --disabled-bg-color: #DDD;\n",
              "  }\n",
              "\n",
              "  [theme=dark] .colab-df-quickchart {\n",
              "      --bg-color: #3B4455;\n",
              "      --fill-color: #D2E3FC;\n",
              "      --hover-bg-color: #434B5C;\n",
              "      --hover-fill-color: #FFFFFF;\n",
              "      --disabled-bg-color: #3B4455;\n",
              "      --disabled-fill-color: #666;\n",
              "  }\n",
              "\n",
              "  .colab-df-quickchart {\n",
              "    background-color: var(--bg-color);\n",
              "    border: none;\n",
              "    border-radius: 50%;\n",
              "    cursor: pointer;\n",
              "    display: none;\n",
              "    fill: var(--fill-color);\n",
              "    height: 32px;\n",
              "    padding: 0;\n",
              "    width: 32px;\n",
              "  }\n",
              "\n",
              "  .colab-df-quickchart:hover {\n",
              "    background-color: var(--hover-bg-color);\n",
              "    box-shadow: 0 1px 2px rgba(60, 64, 67, 0.3), 0 1px 3px 1px rgba(60, 64, 67, 0.15);\n",
              "    fill: var(--button-hover-fill-color);\n",
              "  }\n",
              "\n",
              "  .colab-df-quickchart-complete:disabled,\n",
              "  .colab-df-quickchart-complete:disabled:hover {\n",
              "    background-color: var(--disabled-bg-color);\n",
              "    fill: var(--disabled-fill-color);\n",
              "    box-shadow: none;\n",
              "  }\n",
              "\n",
              "  .colab-df-spinner {\n",
              "    border: 2px solid var(--fill-color);\n",
              "    border-color: transparent;\n",
              "    border-bottom-color: var(--fill-color);\n",
              "    animation:\n",
              "      spin 1s steps(1) infinite;\n",
              "  }\n",
              "\n",
              "  @keyframes spin {\n",
              "    0% {\n",
              "      border-color: transparent;\n",
              "      border-bottom-color: var(--fill-color);\n",
              "      border-left-color: var(--fill-color);\n",
              "    }\n",
              "    20% {\n",
              "      border-color: transparent;\n",
              "      border-left-color: var(--fill-color);\n",
              "      border-top-color: var(--fill-color);\n",
              "    }\n",
              "    30% {\n",
              "      border-color: transparent;\n",
              "      border-left-color: var(--fill-color);\n",
              "      border-top-color: var(--fill-color);\n",
              "      border-right-color: var(--fill-color);\n",
              "    }\n",
              "    40% {\n",
              "      border-color: transparent;\n",
              "      border-right-color: var(--fill-color);\n",
              "      border-top-color: var(--fill-color);\n",
              "    }\n",
              "    60% {\n",
              "      border-color: transparent;\n",
              "      border-right-color: var(--fill-color);\n",
              "    }\n",
              "    80% {\n",
              "      border-color: transparent;\n",
              "      border-right-color: var(--fill-color);\n",
              "      border-bottom-color: var(--fill-color);\n",
              "    }\n",
              "    90% {\n",
              "      border-color: transparent;\n",
              "      border-bottom-color: var(--fill-color);\n",
              "    }\n",
              "  }\n",
              "</style>\n",
              "\n",
              "  <script>\n",
              "    async function quickchart(key) {\n",
              "      const quickchartButtonEl =\n",
              "        document.querySelector('#' + key + ' button');\n",
              "      quickchartButtonEl.disabled = true;  // To prevent multiple clicks.\n",
              "      quickchartButtonEl.classList.add('colab-df-spinner');\n",
              "      try {\n",
              "        const charts = await google.colab.kernel.invokeFunction(\n",
              "            'suggestCharts', [key], {});\n",
              "      } catch (error) {\n",
              "        console.error('Error during call to suggestCharts:', error);\n",
              "      }\n",
              "      quickchartButtonEl.classList.remove('colab-df-spinner');\n",
              "      quickchartButtonEl.classList.add('colab-df-quickchart-complete');\n",
              "    }\n",
              "    (() => {\n",
              "      let quickchartButtonEl =\n",
              "        document.querySelector('#df-6eb17e3b-aabf-4a5f-bf84-9d2d496249a5 button');\n",
              "      quickchartButtonEl.style.display =\n",
              "        google.colab.kernel.accessAllowed ? 'block' : 'none';\n",
              "    })();\n",
              "  </script>\n",
              "</div>\n",
              "    </div>\n",
              "  </div>\n"
            ]
          },
          "metadata": {},
          "execution_count": 32
        }
      ]
    }
  ]
}