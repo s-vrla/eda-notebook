{
  "nbformat": 4,
  "nbformat_minor": 0,
  "metadata": {
    "colab": {
      "provenance": []
    },
    "kernelspec": {
      "name": "python3",
      "display_name": "Python 3"
    },
    "language_info": {
      "name": "python"
    }
  },
  "cells": [
    {
      "cell_type": "markdown",
      "source": [
        "# Notebook Conclusions\n",
        "Update this section with any findings and notes."
      ],
      "metadata": {
        "id": "PDhydTFeh1x0"
      }
    },
    {
      "cell_type": "markdown",
      "source": [
        "# Set Up"
      ],
      "metadata": {
        "id": "vMpGkN9Ejr5X"
      }
    },
    {
      "cell_type": "code",
      "source": [
        "## Authorize Google Drive\n",
        "from google.colab import drive\n",
        "drive.mount('/content/drive/')"
      ],
      "metadata": {
        "id": "ZB0b1jy-hk0t"
      },
      "execution_count": null,
      "outputs": []
    },
    {
      "cell_type": "markdown",
      "source": [
        "## Library imports"
      ],
      "metadata": {
        "id": "TSyy_-LYjzG7"
      }
    },
    {
      "cell_type": "code",
      "source": [
        "#general analysis\n",
        "import pandas as pd\n",
        "import pprint as pp\n",
        "import re\n",
        "import numpy as np\n",
        "import seaborn as sns\n",
        "\n",
        "#file management\n",
        "from pathlib import Path\n",
        "from datetime import datetime\n",
        "\n",
        "#stop words counter\n",
        "#from collections import Counter"
      ],
      "metadata": {
        "id": "nvVQzWERjxy7"
      },
      "execution_count": null,
      "outputs": []
    },
    {
      "cell_type": "code",
      "source": [
        "#unique marker for new files\n",
        "today = datetime.now().strftime(\"%Y-%m-%d\")"
      ],
      "metadata": {
        "id": "78lUjkfbkDcS"
      },
      "execution_count": null,
      "outputs": []
    },
    {
      "cell_type": "markdown",
      "source": [
        "## Display Preferences"
      ],
      "metadata": {
        "id": "3pD_yaw7kFlo"
      }
    },
    {
      "cell_type": "code",
      "source": [
        "\n",
        "#current preferences\n",
        "pd.set_option('display.max_rows', 100)\n",
        "pd.set_option('display.max_columns', None)\n",
        "#pd.set_option('display.max_colwidth', None) #change column display width\n",
        "#pd.set_option('display.precision', 2) #displays 2 decimal places on all numbers\n",
        "pd.set_option('display.float_format',  '{:.2f}'.format)\n",
        "pd.set_option('display.memory_usage', 'deep')"
      ],
      "metadata": {
        "id": "2_0GFBZkkIql"
      },
      "execution_count": null,
      "outputs": []
    },
    {
      "cell_type": "markdown",
      "source": [
        "# File Handling"
      ],
      "metadata": {
        "id": "sTxwJz8jkNYz"
      }
    },
    {
      "cell_type": "code",
      "source": [
        "# @title File Selection\n",
        "# @markdown 1. Navigate to original file location in sidebar\n",
        "# @markdown 2. right-click 'Copy path'\n",
        "# @markdown 3. Paste into 'file_path' field\n",
        "\n",
        "file_path = ''  # @param {type: \"string\"}\n",
        "\n",
        "# @markdown ---"
      ],
      "metadata": {
        "id": "EFABrX_llYU3"
      },
      "execution_count": null,
      "outputs": []
    },
    {
      "cell_type": "code",
      "source": [
        "#set up file_path\n",
        "file_path = Path(file_path)"
      ],
      "metadata": {
        "id": "AYxUZQW8liz6"
      },
      "execution_count": null,
      "outputs": []
    },
    {
      "cell_type": "code",
      "source": [
        "file_path"
      ],
      "metadata": {
        "id": "G5YLVHAYwzW5"
      },
      "execution_count": null,
      "outputs": []
    },
    {
      "cell_type": "code",
      "source": [
        "#select main drive path\n",
        "main_drive = file_path.parent.parent.parent\n",
        "print(main_drive)\n",
        "\n",
        "#create output filename string using today for unique id\n",
        "output_filename = f'{file_path.stem}_{today}'\n",
        "print(output_filename)"
      ],
      "metadata": {
        "id": "1L_oLspHjlhh"
      },
      "execution_count": null,
      "outputs": []
    },
    {
      "cell_type": "markdown",
      "source": [
        "### Read into pandas dataframe"
      ],
      "metadata": {
        "id": "UT7fCcHulpFZ"
      }
    },
    {
      "cell_type": "code",
      "source": [
        "keep_cols = []\n",
        "\n",
        "df = pd.read_csv(file_path,\n",
        "#                     usecols= keep_cols,\n",
        "#                      sep='\\t',\n",
        "#                        nrows=100,\n",
        "#                       engine='python',\n",
        "#                     encoding='ISO-8859-1'\n",
        "                        )"
      ],
      "metadata": {
        "id": "uax-4FPvlswL"
      },
      "execution_count": null,
      "outputs": []
    },
    {
      "cell_type": "code",
      "source": [
        "#alternate read in for parquet files\n",
        "#df = pd.read_parquet(file_path)"
      ],
      "metadata": {
        "id": "WhiMtVlNAJwj"
      },
      "execution_count": 1,
      "outputs": []
    },
    {
      "cell_type": "markdown",
      "source": [
        "# DataFrame Overview"
      ],
      "metadata": {
        "id": "swkyQ1KbWKgv"
      }
    },
    {
      "cell_type": "code",
      "source": [
        "df.shape"
      ],
      "metadata": {
        "id": "ZAsH8L3p_9zp"
      },
      "execution_count": null,
      "outputs": []
    },
    {
      "cell_type": "code",
      "source": [
        "df.info()"
      ],
      "metadata": {
        "id": "1khd9nKSWV9U"
      },
      "execution_count": null,
      "outputs": []
    },
    {
      "cell_type": "code",
      "source": [
        "df.head(5)"
      ],
      "metadata": {
        "id": "90aQqci4SmCg"
      },
      "execution_count": null,
      "outputs": []
    },
    {
      "cell_type": "code",
      "source": [
        "df.tail(5)"
      ],
      "metadata": {
        "id": "eXQAdrHVy6Bq"
      },
      "execution_count": null,
      "outputs": []
    }
  ]
}